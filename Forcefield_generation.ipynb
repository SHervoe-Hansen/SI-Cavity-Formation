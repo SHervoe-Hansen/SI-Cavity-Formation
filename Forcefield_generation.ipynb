{
 "cells": [
  {
   "cell_type": "markdown",
   "id": "98f83939",
   "metadata": {},
   "source": [
    "# On The Free Energy Penalty of Cavity Formation In Salt Solutions: Rethinking the Terms “Kosmotropic” and “Chaotropic”.\n",
    "\n",
    "Stefan Hervø-Hansen<sup>a,*</sup> and Nobuyuki Matubayasi<sup>a,*</sup>.<br><br>\n",
    "<sup>a</sup> Division of Chemical Engineering, Graduate School of Engineering Science, Osaka University, Toyonaka, Osaka 560-8531, Japan.<br>\n",
    "<sup>*</sup> To whom correspondence may be addressed: stefan@cheng.es.osaka-u.ac.jp and nobuyuki@cheng.es.osaka-u.ac.jp.\n",
    "\n",
    "## Force field parameter generation\n",
    "\n",
    "\n",
    "### Introduction\n",
    "\n",
    "\n",
    "### Methods & Materials\n",
    "\n",
    "### References\n",
    "\n",
    "\n",
    "## Import of Python Modules & Auxiliary Functions"
   ]
  },
  {
   "cell_type": "code",
   "execution_count": 1,
   "id": "3e5c7f80",
   "metadata": {},
   "outputs": [
    {
     "name": "stderr",
     "output_type": "stream",
     "text": [
      "Warning: Unable to load toolkit 'OpenEye Toolkit'. The Open Force Field Toolkit does not require the OpenEye Toolkits, and can use RDKit/AmberTools instead. However, if you have a valid license for the OpenEye Toolkits, consider installing them for faster performance and additional file format support: https://docs.eyesopen.com/toolkits/python/quickstart-python/linuxosx.html OpenEye offers free Toolkit licenses for academics: https://www.eyesopen.com/academic-licensing\n",
      "Warning: importing 'simtk.openmm' is deprecated.  Import 'openmm' instead.\n"
     ]
    },
    {
     "name": "stdout",
     "output_type": "stream",
     "text": [
      "/data2/stefan/Cavity-Formation\n"
     ]
    }
   ],
   "source": [
    "from openmm.app import PDBFile\n",
    "from openff.toolkit.topology import Molecule, Topology\n",
    "from openff.toolkit.typing.engines.smirnoff import ForceField\n",
    "import parmed as pmd\n",
    "import os\n",
    "\n",
    "homedir = !pwd\n",
    "homedir = homedir[0]\n",
    "print(homedir)"
   ]
  },
  {
   "cell_type": "markdown",
   "id": "645804bb",
   "metadata": {},
   "source": [
    "### WRITE STUFF"
   ]
  },
  {
   "cell_type": "code",
   "execution_count": 2,
   "id": "5a7e869d",
   "metadata": {},
   "outputs": [],
   "source": [
    "## SETTINGS\n",
    "\n",
    "# Solute list\n",
    "solutes = {\n",
    "    'methanol':   {'SMILES': 'CO',      'Category': 'n-alcohols'},\n",
    "#    'ethanol' :   {'SMILES': 'CCO',     'Category': 'n-alcohols'},\n",
    "#    'n-propanol': {'SMILES': 'CCCO',    'Category': 'n-alcohols'},\n",
    "#    'n-butanol' : {'SMILES': 'CCCCO',   'Category': 'n-alcohols'},\n",
    "#    'n-hexanol':  {'SMILES': 'CCCCCCO', 'Category': 'n-alcohols'},\n",
    "#    \n",
    "#    'methane':    {'SMILES': 'C',       'Category': 'n-alkanes'},\n",
    "#    'ethane' :    {'SMILES': 'CC',      'Category': 'n-alkanes'},\n",
    "#    'propane':    {'SMILES': 'CCC',     'Category': 'n-alkanes'},\n",
    "#    'n-butane' :  {'SMILES': 'CCCC',    'Category': 'n-alkanes'},\n",
    "#    'n-pentane':  {'SMILES': 'CCCCC',   'Category': 'n-alkanes'},\n",
    "#    'n-hexane':   {'SMILES': 'CCCCCC',  'Category': 'n-alkanes'},\n",
    "}\n",
    "\n",
    "# Force field (https://github.com/openforcefield/openff-forcefields)\n",
    "forcefield = ForceField(\"openff-2.0.0.offxml\")"
   ]
  },
  {
   "cell_type": "code",
   "execution_count": 3,
   "id": "a6b7f707",
   "metadata": {},
   "outputs": [],
   "source": [
    "%cd -q $homedir\n",
    "for solute, solute_properties in solutes.items():\n",
    "    molecule = Molecule.from_smiles(solute_properties['SMILES'])\n",
    "    pdbfile = PDBFile('PDB_files/{}/{}.pdb'.format(solute_properties['Category'], solute))\n",
    "    omm_topology = pdbfile.topology\n",
    "    off_topology = Topology.from_openmm(omm_topology, unique_molecules=[molecule])\n",
    "    omm_system = forcefield.create_openmm_system(off_topology)\n",
    "    parmed_structure = pmd.openmm.load_topology(omm_topology, omm_system, pdbfile.positions)\n",
    "    parmed_structure.save(\"Force_fields/temporary.top\", overwrite=True)\n",
    "    \n",
    "    with open(\"Force_fields/temporary.top\", \"r+\") as f:\n",
    "        lines = f.readlines()\n",
    "    f.close()\n",
    "    os.remove('Force_fields/temporary.top')\n",
    "    \n",
    "    with open('Force_fields/{}.itp'.format(solute), \"w\") as f:\n",
    "        for i,line in enumerate(lines):\n",
    "            if '[ defaults ]' in line:\n",
    "                for j in range(3):\n",
    "                    lines[i+j] = ''\n",
    "        f.seek(0)\n",
    "        for line in lines[:-7]:\n",
    "            f.write(line)\n",
    "    f.close()"
   ]
  },
  {
   "cell_type": "code",
   "execution_count": null,
   "id": "b6a60df3",
   "metadata": {},
   "outputs": [],
   "source": []
  }
 ],
 "metadata": {
  "kernelspec": {
   "display_name": "Python 3 (ipykernel)",
   "language": "python",
   "name": "python3"
  },
  "language_info": {
   "codemirror_mode": {
    "name": "ipython",
    "version": 3
   },
   "file_extension": ".py",
   "mimetype": "text/x-python",
   "name": "python",
   "nbconvert_exporter": "python",
   "pygments_lexer": "ipython3",
   "version": "3.7.9"
  }
 },
 "nbformat": 4,
 "nbformat_minor": 5
}
