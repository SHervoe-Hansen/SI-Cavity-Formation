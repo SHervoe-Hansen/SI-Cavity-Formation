{
 "cells": [
  {
   "cell_type": "markdown",
   "id": "98f83939",
   "metadata": {},
   "source": [
    "# On The Free Energy Penalty of Cavity Formation In Salt Solutions: Rethinking the Terms “Kosmotropic” and “Chaotropic”.\n",
    "\n",
    "Stefan Hervø-Hansen<sup>a,*</sup> and Nobuyuki Matubayasi<sup>a,*</sup>.<br><br>\n",
    "<sup>a</sup> Division of Chemical Engineering, Graduate School of Engineering Science, Osaka University, Toyonaka, Osaka 560-8531, Japan.<br>\n",
    "<sup>*</sup> To whom correspondence may be addressed: stefan@cheng.es.osaka-u.ac.jp and nobuyuki@cheng.es.osaka-u.ac.jp.\n",
    "\n",
    "## Part 1: Simulations\n",
    "\n",
    "\n",
    "### Introduction\n",
    "\n",
    "\n",
    "### Methods & Materials\n",
    "\n",
    "### References\n",
    "\n",
    "\n",
    "## Import of Python Modules & Auxiliary Functions"
   ]
  },
  {
   "cell_type": "code",
   "execution_count": null,
   "id": "3e5c7f80",
   "metadata": {},
   "outputs": [],
   "source": [
    "# Notebook dependent libs\n",
    "import numpy as np\n",
    "import matplotlib.pyplot as plt\n",
    "import os, time\n",
    "from distutils.spawn import find_executable\n",
    "from openmm import app\n",
    "import openmm as mm\n",
    "import mdtraj as md\n",
    "\n",
    "# Simulation specific libs\n",
    "# from openmm import app\n",
    "# import openmm as mm\n",
    "# import mdtraj as md\n",
    "\n",
    "# Check for external programs\n",
    "if None in [find_executable('packmol')]:\n",
    "    print('WARNING: External program missing!')\n",
    "\n",
    "homedir = !pwd\n",
    "homedir = homedir[0]\n",
    "print(homedir)"
   ]
  },
  {
   "cell_type": "markdown",
   "id": "645804bb",
   "metadata": {},
   "source": [
    "## Molecular Dynamics Simulations\n",
    "\n",
    "### Simulation settings\n",
    "\n",
    "\n",
    "\n",
    "### OpenMM settings & setup\n",
    "The notebook is designed to be fully automated in the construction of simulation input files for OpenMM using the python API. If you wish to edit the default OpenMM script one simply needs to edit the variable `openmm_script`. For example, one can edit the integration scheme and its parameters set in the variable `integrator` as well as edit the barostat as currently determined from `mm.MonteCarloBarostat`. Additionally, one may change the non-bonded methods and their cutoffs in the `system` variable with the option of adding Lennard-Jones switching functions via the `forces` variable. Finally, one may edit the number of minimization (`sim.minimizeEnergy`) and equilibration steps conducted as well as choose whether the simulation should be conducted on GPUs or CPUs via the `platform` and `properties` variables.\n",
    "\n",
    "### Submit script\n",
    "Due to the larger amount of simulations, the notebook can write submission script for servers employing job scheduling. The notebook was origionally run on a linux machine utilizing PBS (for a quick guide see [here](https://latisresearch.umn.edu/creating-a-PBS-script)). However, the bash script containing the submission code may be edited to utilize Slurm instead (documentation [here](https://slurm.schedmd.com)) by changing the variable `submit_script` and by executing the commands `!sbatch submit.pbs`, `!sbatch submit_sol.pbs`, and `!sbatch submit_ref.pbs` instead of `qsub`."
   ]
  },
  {
   "cell_type": "code",
   "execution_count": null,
   "id": "7e95cc44",
   "metadata": {},
   "outputs": [],
   "source": []
  }
 ],
 "metadata": {
  "kernelspec": {
   "display_name": "Python 3 (ipykernel)",
   "language": "python",
   "name": "python3"
  },
  "language_info": {
   "codemirror_mode": {
    "name": "ipython",
    "version": 3
   },
   "file_extension": ".py",
   "mimetype": "text/x-python",
   "name": "python",
   "nbconvert_exporter": "python",
   "pygments_lexer": "ipython3",
   "version": "3.9.12"
  }
 },
 "nbformat": 4,
 "nbformat_minor": 5
}
