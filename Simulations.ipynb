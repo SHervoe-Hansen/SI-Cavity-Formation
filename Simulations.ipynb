{
 "cells": [
  {
   "cell_type": "markdown",
   "id": "98f83939",
   "metadata": {},
   "source": [
    "# On The Free Energy Penalty of Cavity Formation In Salt Solutions: Rethinking the Terms “Kosmotropic” and “Chaotropic”.\n",
    "\n",
    "Stefan Hervø-Hansen<sup>a,*</sup> and Nobuyuki Matubayasi<sup>a,*</sup>.<br><br>\n",
    "<sup>a</sup> Division of Chemical Engineering, Graduate School of Engineering Science, Osaka University, Toyonaka, Osaka 560-8531, Japan.<br>\n",
    "<sup>*</sup> To whom correspondence may be addressed: stefan@cheng.es.osaka-u.ac.jp and nobuyuki@cheng.es.osaka-u.ac.jp.\n",
    "\n",
    "## Simulations\n",
    "\n",
    "### Introduction\n",
    "\n",
    "### Methods & Materials\n",
    "\n",
    "### References\n",
    "\n",
    "\n",
    "\n",
    "## Import of Python Modules & Auxiliary Functions"
   ]
  },
  {
   "cell_type": "code",
   "execution_count": 1,
   "id": "3e5c7f80",
   "metadata": {},
   "outputs": [
    {
     "name": "stderr",
     "output_type": "stream",
     "text": [
      "Warning: Unable to load toolkit 'OpenEye Toolkit'. The Open Force Field Toolkit does not require the OpenEye Toolkits, and can use RDKit/AmberTools instead. However, if you have a valid license for the OpenEye Toolkits, consider installing them for faster performance and additional file format support: https://docs.eyesopen.com/toolkits/python/quickstart-python/linuxosx.html OpenEye offers free Toolkit licenses for academics: https://www.eyesopen.com/academic-licensing\n",
      "Warning: importing 'simtk.openmm' is deprecated.  Import 'openmm' instead.\n"
     ]
    },
    {
     "name": "stdout",
     "output_type": "stream",
     "text": [
      "/data2/stefan/Cavity-Formation\n"
     ]
    }
   ],
   "source": [
    "# Notebook dependent libs\n",
    "import numpy as np\n",
    "import matplotlib.pyplot as plt\n",
    "import os, time\n",
    "from shutil import copyfile\n",
    "from distutils.spawn import find_executable\n",
    "import parmed as pmd\n",
    "import mdtraj as md\n",
    "\n",
    "# Check for external programs\n",
    "if None in [find_executable('packmol')]:\n",
    "    print('WARNING: External program missing!')\n",
    "\n",
    "homedir = !pwd\n",
    "homedir = homedir[0]\n",
    "print(homedir)"
   ]
  },
  {
   "cell_type": "markdown",
   "id": "c2a0c580",
   "metadata": {},
   "source": [
    "## Molecular Dynamics Simulations\n",
    "### Simulation settings\n",
    "### Submit script"
   ]
  },
  {
   "cell_type": "code",
   "execution_count": null,
   "id": "04e78f23",
   "metadata": {},
   "outputs": [],
   "source": [
    "# Write this code\n",
    "conditions = {\n",
    "    'condition 1': {'setting 1': None, 'setting 2': 'HOH', 'setting 3': np.arange(0,10)},\n",
    "    'condition 2': {'setting 1': None, 'setting 2': 'HOH', 'setting 3': np.arange(0,10)}\n",
    "}"
   ]
  },
  {
   "cell_type": "markdown",
   "id": "a69d2434",
   "metadata": {},
   "source": [
    "#### Generation of initial configuration using Packmol"
   ]
  },
  {
   "cell_type": "code",
   "execution_count": null,
   "id": "7ec6579b",
   "metadata": {},
   "outputs": [],
   "source": [
    "%cd -q $homedir\n",
    "\n",
    "packmol_script=\"\"\"\n",
    "tolerance 2.0\n",
    "filetype pdb\n",
    "output {cation}{anion}.pdb\n",
    "\n",
    "add_box_sides 1.0\n",
    "\n",
    "structure {homedir}/PDB_files/{anion}.pdb\n",
    "        number {N_anion}\n",
    "        inside cube 0. 0. 0. 70.\n",
    "end structure\n",
    "\n",
    "structure {homedir}/PDB_files/{cation}.pdb\n",
    "        number {N_cation}\n",
    "        inside cube 0. 0. 0. 70.\n",
    "end structure\n",
    "\"\"\"\n",
    "\n",
    "topology_script = \"\"\"\n",
    "; insert stuff you need that is not covered in the .itp files\n",
    "\"\"\"\n",
    "\n",
    "for condition in conditions:\n",
    "    \n",
    "    # Generate initial configuration using packmol\n",
    "    with open('packmol.in', 'w') as f:\n",
    "        f.write(packmol_script.format(N_cation, N_anion, cation, anion, homedir))\n",
    "    f.close()\n",
    "    !packmol < packmol.in\n",
    "    \n",
    "    # Convert packmol pdb to gromacs format\n",
    "    init = pmd.load_file('pdb_file.pdb')\n",
    "    init.save('pdb_file.gro')\n",
    "    \n",
    "    # Write gromacs topology\n",
    "    with open('Topology.top', 'w') as f:\n",
    "        f.write(topology_script)\n",
    "    f.close()\n",
    "    !packmol < packmol.in\n",
    "    print('Wrote initial configurations to'+os.getcwd())"
   ]
  },
  {
   "cell_type": "markdown",
   "id": "6af0a6cc",
   "metadata": {},
   "source": [
    "#### Submit script"
   ]
  },
  {
   "cell_type": "code",
   "execution_count": null,
   "id": "8391e2df",
   "metadata": {},
   "outputs": [],
   "source": [
    "# and you just do the same as above."
   ]
  }
 ],
 "metadata": {
  "kernelspec": {
   "display_name": "Python 3 (ipykernel)",
   "language": "python",
   "name": "python3"
  },
  "language_info": {
   "codemirror_mode": {
    "name": "ipython",
    "version": 3
   },
   "file_extension": ".py",
   "mimetype": "text/x-python",
   "name": "python",
   "nbconvert_exporter": "python",
   "pygments_lexer": "ipython3",
   "version": "3.7.9"
  }
 },
 "nbformat": 4,
 "nbformat_minor": 5
}
